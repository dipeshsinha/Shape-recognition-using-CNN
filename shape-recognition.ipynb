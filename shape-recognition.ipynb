{
 "cells": [
  {
   "cell_type": "markdown",
   "metadata": {},
   "source": [
    "#### Import torch"
   ]
  },
  {
   "cell_type": "code",
   "execution_count": 2,
   "metadata": {},
   "outputs": [],
   "source": [
    "import torch\n",
    "import torch.nn as nn\n",
    "import torch.optim as optim\n",
    "from torch.autograd import Variable\n",
    "import numpy as np\n",
    "import pandas as pd\n",
    "import matplotlib.pyplot as plt\n",
    "import torchvision\n",
    "from torchvision import datasets, models, transforms"
   ]
  },
  {
   "cell_type": "markdown",
   "metadata": {},
   "source": [
    "#### Create a torch.nn module for CNN network"
   ]
  },
  {
   "cell_type": "code",
   "execution_count": 14,
   "metadata": {},
   "outputs": [],
   "source": [
    "class CNNModel(nn.Module):\n",
    "    def __init__(self):\n",
    "        super(CNNModel, self).__init__()\n",
    "        self.cnn1 = nn.Conv2d(in_channels = 3,\n",
    "                             out_channels = 16,\n",
    "                             kernel_size = 5,\n",
    "                             stride = 1,\n",
    "                             padding = 2)\n",
    "        self.relu1 = nn.ReLU()\n",
    "        self.maxpool1 = nn.MaxPool2d(kernel_size = 2)\n",
    "        self.cnn2 = nn.Conv2d(in_channels = 16,\n",
    "                             out_channels = 32,\n",
    "                             kernel_size = 5,\n",
    "                             stride = 1,\n",
    "                             padding = 2)\n",
    "        self.relu2 = nn.ReLU()\n",
    "        self.maxpool2 = nn.MaxPool2d(kernel_size = 2)\n",
    "        self.linear = nn.Linear(32*128*128, 7)\n",
    "    def forward(self, x):\n",
    "        out = self.cnn1(x)\n",
    "        out = self.relu1(out)\n",
    "        out = self.maxpool1(out)\n",
    "        out = self.cnn2(out)\n",
    "        out = self.relu2(out)\n",
    "        out = self.maxpool2(out)\n",
    "        out = out.view(out.size(0), -1)\n",
    "        out = self.linear(out)\n",
    "        return out"
   ]
  },
  {
   "cell_type": "markdown",
   "metadata": {},
   "source": [
    "#### transform our images and normalise it for better model training"
   ]
  },
  {
   "cell_type": "code",
   "execution_count": 15,
   "metadata": {},
   "outputs": [],
   "source": [
    "data_transforms = transforms.Compose([\n",
    "    transforms.Resize([512,512]),\n",
    "    transforms.ToTensor(),\n",
    "    transforms.Normalize([0.485,0.456,0.406],[0.229,0.224,0.225])\n",
    "])\n",
    "data_dir = 'train'\n",
    "image_datasets = datasets.ImageFolder(data_dir, transform = data_transforms)\n",
    "train_loader = torch.utils.data.DataLoader(dataset = image_datasets,\n",
    "                                          batch_size = 2,\n",
    "                                          shuffle = True)\n",
    "image_datasets.classes\n",
    "labels_h = ('Circle', 'Rectangle', 'Triangle')\n",
    "dataset_size = len(image_datasets)"
   ]
  },
  {
   "cell_type": "markdown",
   "metadata": {},
   "source": [
    "#### Function to display image"
   ]
  },
  {
   "cell_type": "code",
   "execution_count": 16,
   "metadata": {},
   "outputs": [],
   "source": [
    "def imshow(inp, title=None):\n",
    "    inp = inp.numpy().transpose((1, 2, 0))\n",
    "    mean = np.array([0.485, 0.456, 0.406])\n",
    "    std = np.array([0.229, 0.224, 0.225])\n",
    "    inp = std * inp + mean\n",
    "    inp = np.clip(inp, 0, 1)\n",
    "    plt.imshow(inp)\n",
    "    if title is not None:\n",
    "        plt.title(title)\n",
    "    plt.pause(0.001)  # pause a bit so that plots are updated"
   ]
  },
  {
   "cell_type": "code",
   "execution_count": 19,
   "metadata": {},
   "outputs": [],
   "source": [
    "model = CNNModel()\n",
    "criterion = nn.CrossEntropyLoss()\n",
    "optimizer = optim.SGD(model.parameters(), lr = 0.001)\n",
    "model = model.cuda()   #transfer model to GPU"
   ]
  },
  {
   "cell_type": "code",
   "execution_count": 20,
   "metadata": {},
   "outputs": [
    {
     "name": "stderr",
     "output_type": "stream",
     "text": [
      "C:\\Users\\nEW u\\Anaconda3\\lib\\site-packages\\ipykernel_launcher.py:13: UserWarning: invalid index of a 0-dim tensor. This will be an error in PyTorch 0.5. Use tensor.item() to convert a 0-dim tensor to a Python number\n",
      "  del sys.path[0]\n"
     ]
    },
    {
     "name": "stdout",
     "output_type": "stream",
     "text": [
      "epoch : 0, iter : 0, loss : 1.9076263904571533\n",
      "epoch : 0, iter : 1, loss : 0.04459571838378906\n",
      "epoch : 0, iter : 2, loss : 23.37029457092285\n",
      "epoch : 0, iter : 3, loss : 3.6700189113616943\n",
      "epoch : 0, iter : 4, loss : 2.1886749267578125\n",
      "epoch : 0, iter : 5, loss : 1.1794997453689575\n",
      "epoch : 0, iter : 6, loss : 1.2671167850494385\n",
      "epoch : 0, iter : 7, loss : 0.8898130655288696\n",
      "epoch : 0, iter : 8, loss : 4.212040424346924\n",
      "epoch : 0, iter : 9, loss : 1.0826318264007568\n",
      "epoch : 0, iter : 10, loss : 1.0465185642242432\n",
      "epoch : 0, iter : 11, loss : 4.2695841789245605\n",
      "epoch : 0, iter : 12, loss : 1.4393976926803589\n",
      "epoch : 0, iter : 13, loss : 2.6247360706329346\n",
      "epoch : 0, iter : 14, loss : 1.6923342943191528\n",
      "epoch : 0, iter : 15, loss : 0.9634383320808411\n",
      "epoch : 0, iter : 16, loss : 1.5901168584823608\n",
      "epoch : 0, iter : 17, loss : 0.8159174919128418\n",
      "epoch : 0, iter : 18, loss : 2.3270983695983887\n",
      "epoch : 0, iter : 19, loss : 2.570387125015259\n",
      "epoch : 1, iter : 0, loss : 1.0886796712875366\n",
      "epoch : 1, iter : 1, loss : 0.6537930369377136\n",
      "epoch : 1, iter : 2, loss : 0.638492226600647\n",
      "epoch : 1, iter : 3, loss : 1.3121364116668701\n",
      "epoch : 1, iter : 4, loss : 2.824557065963745\n",
      "epoch : 1, iter : 5, loss : 0.7770795822143555\n",
      "epoch : 1, iter : 6, loss : 1.2076842784881592\n",
      "epoch : 1, iter : 7, loss : 0.9496210813522339\n",
      "epoch : 1, iter : 8, loss : 0.4699667692184448\n",
      "epoch : 1, iter : 9, loss : 1.9765740633010864\n",
      "epoch : 1, iter : 10, loss : 1.0652724504470825\n",
      "epoch : 1, iter : 11, loss : 1.118112564086914\n",
      "epoch : 1, iter : 12, loss : 1.1375453472137451\n",
      "epoch : 1, iter : 13, loss : 1.0656845569610596\n",
      "epoch : 1, iter : 14, loss : 1.0416350364685059\n",
      "epoch : 1, iter : 15, loss : 0.49427878856658936\n",
      "epoch : 1, iter : 16, loss : 1.5662879943847656\n",
      "epoch : 1, iter : 17, loss : 0.8428479433059692\n",
      "epoch : 1, iter : 18, loss : 1.0003525018692017\n",
      "epoch : 1, iter : 19, loss : 0.7116966247558594\n",
      "epoch : 2, iter : 0, loss : 0.22328686714172363\n",
      "epoch : 2, iter : 1, loss : 1.3598442077636719\n",
      "epoch : 2, iter : 2, loss : 0.453505277633667\n",
      "epoch : 2, iter : 3, loss : 0.9756920337677002\n",
      "epoch : 2, iter : 4, loss : 0.4332665205001831\n",
      "epoch : 2, iter : 5, loss : 0.2588965892791748\n",
      "epoch : 2, iter : 6, loss : 0.7262749671936035\n",
      "epoch : 2, iter : 7, loss : 0.8849501609802246\n",
      "epoch : 2, iter : 8, loss : 0.41353797912597656\n",
      "epoch : 2, iter : 9, loss : 0.14931106567382812\n",
      "epoch : 2, iter : 10, loss : 1.0326886177062988\n",
      "epoch : 2, iter : 11, loss : 0.7159061431884766\n",
      "epoch : 2, iter : 12, loss : 0.36535465717315674\n",
      "epoch : 2, iter : 13, loss : 0.4676414728164673\n",
      "epoch : 2, iter : 14, loss : 0.6863672733306885\n",
      "epoch : 2, iter : 15, loss : 0.5119369029998779\n",
      "epoch : 2, iter : 16, loss : 0.9246197938919067\n",
      "epoch : 2, iter : 17, loss : 0.6982684135437012\n",
      "epoch : 2, iter : 18, loss : 0.34838318824768066\n",
      "epoch : 2, iter : 19, loss : 0.04215669631958008\n",
      "epoch : 3, iter : 0, loss : 0.8155560493469238\n",
      "epoch : 3, iter : 1, loss : 0.7336190938949585\n",
      "epoch : 3, iter : 2, loss : 0.9155884981155396\n",
      "epoch : 3, iter : 3, loss : 0.34478461742401123\n",
      "epoch : 3, iter : 4, loss : 0.24412238597869873\n",
      "epoch : 3, iter : 5, loss : 0.2352544069290161\n",
      "epoch : 3, iter : 6, loss : 0.2975897789001465\n",
      "epoch : 3, iter : 7, loss : 0.9320924282073975\n",
      "epoch : 3, iter : 8, loss : 0.451587438583374\n",
      "epoch : 3, iter : 9, loss : 0.18948030471801758\n",
      "epoch : 3, iter : 10, loss : 0.07891559600830078\n",
      "epoch : 3, iter : 11, loss : 0.06025290489196777\n",
      "epoch : 3, iter : 12, loss : 0.4117997884750366\n",
      "epoch : 3, iter : 13, loss : 0.3903731107711792\n",
      "epoch : 3, iter : 14, loss : 0.2821223735809326\n",
      "epoch : 3, iter : 15, loss : 0.19239521026611328\n",
      "epoch : 3, iter : 16, loss : 0.417521595954895\n",
      "epoch : 3, iter : 17, loss : 0.47266697883605957\n",
      "epoch : 3, iter : 18, loss : 0.9848970174789429\n",
      "epoch : 3, iter : 19, loss : 0.13782310485839844\n",
      "epoch : 4, iter : 0, loss : 0.060843467712402344\n",
      "epoch : 4, iter : 1, loss : 1.0157257318496704\n",
      "epoch : 4, iter : 2, loss : 0.06251764297485352\n",
      "epoch : 4, iter : 3, loss : 0.08400630950927734\n",
      "epoch : 4, iter : 4, loss : 0.45071983337402344\n",
      "epoch : 4, iter : 5, loss : 0.21093130111694336\n",
      "epoch : 4, iter : 6, loss : 0.2990962266921997\n",
      "epoch : 4, iter : 7, loss : 0.1016690731048584\n",
      "epoch : 4, iter : 8, loss : 0.13502144813537598\n",
      "epoch : 4, iter : 9, loss : 0.1826307773590088\n",
      "epoch : 4, iter : 10, loss : 0.2838348150253296\n",
      "epoch : 4, iter : 11, loss : 0.4922829866409302\n",
      "epoch : 4, iter : 12, loss : 0.02932882308959961\n",
      "epoch : 4, iter : 13, loss : 0.12781691551208496\n",
      "epoch : 4, iter : 14, loss : 0.2453070878982544\n",
      "epoch : 4, iter : 15, loss : 0.22274160385131836\n",
      "epoch : 4, iter : 16, loss : 0.1492934226989746\n",
      "epoch : 4, iter : 17, loss : 0.4411602020263672\n",
      "epoch : 4, iter : 18, loss : 0.614238977432251\n",
      "epoch : 4, iter : 19, loss : 0.20365643501281738\n",
      "epoch : 5, iter : 0, loss : 0.04485130310058594\n",
      "epoch : 5, iter : 1, loss : 0.31578707695007324\n",
      "epoch : 5, iter : 2, loss : 0.6157560348510742\n",
      "epoch : 5, iter : 3, loss : 0.06847286224365234\n",
      "epoch : 5, iter : 4, loss : 0.10449624061584473\n",
      "epoch : 5, iter : 5, loss : 0.2877070903778076\n",
      "epoch : 5, iter : 6, loss : 0.03513646125793457\n",
      "epoch : 5, iter : 7, loss : 0.2101914882659912\n",
      "epoch : 5, iter : 8, loss : 0.060227394104003906\n",
      "epoch : 5, iter : 9, loss : 0.06826353073120117\n",
      "epoch : 5, iter : 10, loss : 0.11448132991790771\n",
      "epoch : 5, iter : 11, loss : 0.042722225189208984\n",
      "epoch : 5, iter : 12, loss : 0.046973228454589844\n",
      "epoch : 5, iter : 13, loss : 0.030022144317626953\n",
      "epoch : 5, iter : 14, loss : 0.3749842643737793\n",
      "epoch : 5, iter : 15, loss : 0.007892370223999023\n",
      "epoch : 5, iter : 16, loss : 0.12339377403259277\n",
      "epoch : 5, iter : 17, loss : 0.023316383361816406\n",
      "epoch : 5, iter : 18, loss : 0.06552886962890625\n",
      "epoch : 5, iter : 19, loss : 0.020523548126220703\n",
      "epoch : 6, iter : 0, loss : 0.013894796371459961\n",
      "epoch : 6, iter : 1, loss : 0.07108616828918457\n",
      "epoch : 6, iter : 2, loss : 0.03440093994140625\n",
      "epoch : 6, iter : 3, loss : 0.12404680252075195\n",
      "epoch : 6, iter : 4, loss : 0.02801823616027832\n",
      "epoch : 6, iter : 5, loss : 0.048607826232910156\n",
      "epoch : 6, iter : 6, loss : 0.009427547454833984\n",
      "epoch : 6, iter : 7, loss : 0.03528141975402832\n",
      "epoch : 6, iter : 8, loss : 0.07556962966918945\n",
      "epoch : 6, iter : 9, loss : 0.026217937469482422\n",
      "epoch : 6, iter : 10, loss : 0.05166125297546387\n",
      "epoch : 6, iter : 11, loss : 0.006402254104614258\n",
      "epoch : 6, iter : 12, loss : 0.009110212326049805\n",
      "epoch : 6, iter : 13, loss : 0.045786380767822266\n",
      "epoch : 6, iter : 14, loss : 0.048581600189208984\n",
      "epoch : 6, iter : 15, loss : 0.06113600730895996\n",
      "epoch : 6, iter : 16, loss : 0.06942439079284668\n",
      "epoch : 6, iter : 17, loss : 0.020524024963378906\n",
      "epoch : 6, iter : 18, loss : 0.014446735382080078\n",
      "epoch : 6, iter : 19, loss : 0.0225372314453125\n",
      "epoch : 7, iter : 0, loss : 0.02001810073852539\n",
      "epoch : 7, iter : 1, loss : 0.030924081802368164\n",
      "epoch : 7, iter : 2, loss : 0.005202054977416992\n",
      "epoch : 7, iter : 3, loss : 0.006683826446533203\n",
      "epoch : 7, iter : 4, loss : 0.02523040771484375\n",
      "epoch : 7, iter : 5, loss : 0.03555941581726074\n",
      "epoch : 7, iter : 6, loss : 0.022512197494506836\n",
      "epoch : 7, iter : 7, loss : 0.03373384475708008\n",
      "epoch : 7, iter : 8, loss : 0.010083675384521484\n",
      "epoch : 7, iter : 9, loss : 0.011363029479980469\n",
      "epoch : 7, iter : 10, loss : 0.03512716293334961\n",
      "epoch : 7, iter : 11, loss : 0.01386260986328125\n",
      "epoch : 7, iter : 12, loss : 0.02705073356628418\n",
      "epoch : 7, iter : 13, loss : 0.011461496353149414\n",
      "epoch : 7, iter : 14, loss : 0.015835285186767578\n",
      "epoch : 7, iter : 15, loss : 0.06464624404907227\n",
      "epoch : 7, iter : 16, loss : 0.06414103507995605\n",
      "epoch : 7, iter : 17, loss : 0.010642528533935547\n",
      "epoch : 7, iter : 18, loss : 0.06125688552856445\n",
      "epoch : 7, iter : 19, loss : 0.026643753051757812\n",
      "epoch : 8, iter : 0, loss : 0.018346786499023438\n",
      "epoch : 8, iter : 1, loss : 0.022348880767822266\n",
      "epoch : 8, iter : 2, loss : 0.028172731399536133\n",
      "epoch : 8, iter : 3, loss : 0.006749153137207031\n",
      "epoch : 8, iter : 4, loss : 0.012969255447387695\n",
      "epoch : 8, iter : 5, loss : 0.0024132728576660156\n",
      "epoch : 8, iter : 6, loss : 0.04021191596984863\n",
      "epoch : 8, iter : 7, loss : 0.05111122131347656\n",
      "epoch : 8, iter : 8, loss : 0.01840806007385254\n",
      "epoch : 8, iter : 9, loss : 0.024784088134765625\n"
     ]
    },
    {
     "name": "stdout",
     "output_type": "stream",
     "text": [
      "epoch : 8, iter : 10, loss : 0.017207860946655273\n",
      "epoch : 8, iter : 11, loss : 0.00593256950378418\n",
      "epoch : 8, iter : 12, loss : 0.007605075836181641\n",
      "epoch : 8, iter : 13, loss : 0.02180957794189453\n",
      "epoch : 8, iter : 14, loss : 0.035250186920166016\n",
      "epoch : 8, iter : 15, loss : 0.006249904632568359\n",
      "epoch : 8, iter : 16, loss : 0.011313199996948242\n",
      "epoch : 8, iter : 17, loss : 0.025513887405395508\n",
      "epoch : 8, iter : 18, loss : 0.008937597274780273\n",
      "epoch : 8, iter : 19, loss : 0.02077484130859375\n",
      "epoch : 9, iter : 0, loss : 0.017801761627197266\n",
      "epoch : 9, iter : 1, loss : 0.012053489685058594\n",
      "epoch : 9, iter : 2, loss : 0.015573263168334961\n",
      "epoch : 9, iter : 3, loss : 0.011022806167602539\n",
      "epoch : 9, iter : 4, loss : 0.0073089599609375\n",
      "epoch : 9, iter : 5, loss : 0.004996776580810547\n",
      "epoch : 9, iter : 6, loss : 0.0028967857360839844\n",
      "epoch : 9, iter : 7, loss : 0.0034112930297851562\n",
      "epoch : 9, iter : 8, loss : 0.026792287826538086\n",
      "epoch : 9, iter : 9, loss : 0.015590429306030273\n",
      "epoch : 9, iter : 10, loss : 0.010438680648803711\n",
      "epoch : 9, iter : 11, loss : 0.0201566219329834\n",
      "epoch : 9, iter : 12, loss : 0.026858091354370117\n",
      "epoch : 9, iter : 13, loss : 0.006198883056640625\n",
      "epoch : 9, iter : 14, loss : 0.02682948112487793\n",
      "epoch : 9, iter : 15, loss : 0.009043216705322266\n",
      "epoch : 9, iter : 16, loss : 0.020110130310058594\n",
      "epoch : 9, iter : 17, loss : 0.016946077346801758\n",
      "epoch : 9, iter : 18, loss : 0.017882347106933594\n",
      "epoch : 9, iter : 19, loss : 0.007975578308105469\n",
      "epoch : 10, iter : 0, loss : 0.009707927703857422\n",
      "epoch : 10, iter : 1, loss : 0.013799428939819336\n",
      "epoch : 10, iter : 2, loss : 0.0016279220581054688\n",
      "epoch : 10, iter : 3, loss : 0.006125211715698242\n",
      "epoch : 10, iter : 4, loss : 0.004052877426147461\n",
      "epoch : 10, iter : 5, loss : 0.00906991958618164\n",
      "epoch : 10, iter : 6, loss : 0.008158683776855469\n",
      "epoch : 10, iter : 7, loss : 0.010296106338500977\n",
      "epoch : 10, iter : 8, loss : 0.020684003829956055\n",
      "epoch : 10, iter : 9, loss : 0.00473785400390625\n",
      "epoch : 10, iter : 10, loss : 0.015492916107177734\n",
      "epoch : 10, iter : 11, loss : 0.017991304397583008\n",
      "epoch : 10, iter : 12, loss : 0.01584625244140625\n",
      "epoch : 10, iter : 13, loss : 0.010468006134033203\n",
      "epoch : 10, iter : 14, loss : 0.004817962646484375\n",
      "epoch : 10, iter : 15, loss : 0.014554023742675781\n",
      "epoch : 10, iter : 16, loss : 0.006108760833740234\n",
      "epoch : 10, iter : 17, loss : 0.008388519287109375\n",
      "epoch : 10, iter : 18, loss : 0.020395517349243164\n",
      "epoch : 10, iter : 19, loss : 0.04529571533203125\n",
      "epoch : 11, iter : 0, loss : 0.009019851684570312\n",
      "epoch : 11, iter : 1, loss : 0.004889726638793945\n",
      "epoch : 11, iter : 2, loss : 0.010497808456420898\n",
      "epoch : 11, iter : 3, loss : 0.017705917358398438\n",
      "epoch : 11, iter : 4, loss : 0.0019450187683105469\n",
      "epoch : 11, iter : 5, loss : 0.007842779159545898\n",
      "epoch : 11, iter : 6, loss : 0.016933441162109375\n",
      "epoch : 11, iter : 7, loss : 0.01115560531616211\n",
      "epoch : 11, iter : 8, loss : 0.004045963287353516\n",
      "epoch : 11, iter : 9, loss : 0.007000923156738281\n",
      "epoch : 11, iter : 10, loss : 0.0022754669189453125\n",
      "epoch : 11, iter : 11, loss : 0.011972665786743164\n",
      "epoch : 11, iter : 12, loss : 0.012589693069458008\n",
      "epoch : 11, iter : 13, loss : 0.004580497741699219\n",
      "epoch : 11, iter : 14, loss : 0.01565384864807129\n",
      "epoch : 11, iter : 15, loss : 0.017870426177978516\n",
      "epoch : 11, iter : 16, loss : 0.014586448669433594\n",
      "epoch : 11, iter : 17, loss : 0.0027685165405273438\n",
      "epoch : 11, iter : 18, loss : 0.005062580108642578\n",
      "epoch : 11, iter : 19, loss : 0.015344619750976562\n",
      "epoch : 12, iter : 0, loss : 0.004376411437988281\n",
      "epoch : 12, iter : 1, loss : 0.012619256973266602\n",
      "epoch : 12, iter : 2, loss : 0.012799978256225586\n",
      "epoch : 12, iter : 3, loss : 0.00848531723022461\n",
      "epoch : 12, iter : 4, loss : 0.0038356781005859375\n",
      "epoch : 12, iter : 5, loss : 0.00837254524230957\n",
      "epoch : 12, iter : 6, loss : 0.003936767578125\n",
      "epoch : 12, iter : 7, loss : 0.007135868072509766\n",
      "epoch : 12, iter : 8, loss : 0.007555961608886719\n",
      "epoch : 12, iter : 9, loss : 0.004171848297119141\n",
      "epoch : 12, iter : 10, loss : 0.0043888092041015625\n",
      "epoch : 12, iter : 11, loss : 0.015619277954101562\n",
      "epoch : 12, iter : 12, loss : 0.011568307876586914\n",
      "epoch : 12, iter : 13, loss : 0.006122112274169922\n",
      "epoch : 12, iter : 14, loss : 0.008297443389892578\n",
      "epoch : 12, iter : 15, loss : 0.009196996688842773\n",
      "epoch : 12, iter : 16, loss : 0.002315044403076172\n",
      "epoch : 12, iter : 17, loss : 0.008820533752441406\n",
      "epoch : 12, iter : 18, loss : 0.013460636138916016\n",
      "epoch : 12, iter : 19, loss : 0.009081363677978516\n",
      "epoch : 13, iter : 0, loss : 0.0038504600524902344\n",
      "epoch : 13, iter : 1, loss : 0.002193450927734375\n",
      "epoch : 13, iter : 2, loss : 0.01126241683959961\n",
      "epoch : 13, iter : 3, loss : 0.00434112548828125\n",
      "epoch : 13, iter : 4, loss : 0.008539199829101562\n",
      "epoch : 13, iter : 5, loss : 0.008284568786621094\n",
      "epoch : 13, iter : 6, loss : 0.004270076751708984\n",
      "epoch : 13, iter : 7, loss : 0.003118753433227539\n",
      "epoch : 13, iter : 8, loss : 0.0072324275970458984\n",
      "epoch : 13, iter : 9, loss : 0.0063724517822265625\n",
      "epoch : 13, iter : 10, loss : 0.012817859649658203\n",
      "epoch : 13, iter : 11, loss : 0.008965492248535156\n",
      "epoch : 13, iter : 12, loss : 0.00579071044921875\n",
      "epoch : 13, iter : 13, loss : 0.0011138916015625\n",
      "epoch : 13, iter : 14, loss : 0.0063631534576416016\n",
      "epoch : 13, iter : 15, loss : 0.009824752807617188\n",
      "epoch : 13, iter : 16, loss : 0.011664152145385742\n",
      "epoch : 13, iter : 17, loss : 0.007970333099365234\n",
      "epoch : 13, iter : 18, loss : 0.003773212432861328\n",
      "epoch : 13, iter : 19, loss : 0.010620594024658203\n",
      "epoch : 14, iter : 0, loss : 0.0045337677001953125\n",
      "epoch : 14, iter : 1, loss : 0.0010852813720703125\n",
      "epoch : 14, iter : 2, loss : 0.007143974304199219\n",
      "epoch : 14, iter : 3, loss : 0.008639812469482422\n",
      "epoch : 14, iter : 4, loss : 0.0055484771728515625\n",
      "epoch : 14, iter : 5, loss : 0.003455638885498047\n",
      "epoch : 14, iter : 6, loss : 0.016575336456298828\n",
      "epoch : 14, iter : 7, loss : 0.005616664886474609\n",
      "epoch : 14, iter : 8, loss : 0.0022323131561279297\n",
      "epoch : 14, iter : 9, loss : 0.005687713623046875\n",
      "epoch : 14, iter : 10, loss : 0.0032262802124023438\n",
      "epoch : 14, iter : 11, loss : 0.010175704956054688\n",
      "epoch : 14, iter : 12, loss : 0.008845090866088867\n",
      "epoch : 14, iter : 13, loss : 0.0036554336547851562\n",
      "epoch : 14, iter : 14, loss : 0.0030193328857421875\n",
      "epoch : 14, iter : 15, loss : 0.004180431365966797\n",
      "epoch : 14, iter : 16, loss : 0.006791591644287109\n",
      "epoch : 14, iter : 17, loss : 0.011186361312866211\n",
      "epoch : 14, iter : 18, loss : 0.006430625915527344\n",
      "epoch : 14, iter : 19, loss : 0.0006208419799804688\n"
     ]
    }
   ],
   "source": [
    "num_epochs = 15\n",
    "iter = 0\n",
    "for epoch in range(num_epochs):\n",
    "    for i, (images, labels) in enumerate(train_loader):\n",
    "        images = Variable(images.cuda())\n",
    "        labels = Variable(labels.cuda())\n",
    "        optimizer.zero_grad()\n",
    "        output = model(images)\n",
    "        loss = criterion(output, labels)\n",
    "        loss.backward()\n",
    "        optimizer.step()\n",
    "        iter += 1\n",
    "        print('epoch : {}, iter : {}, loss : {}'.format(epoch,i,loss.data[0]))"
   ]
  },
  {
   "cell_type": "markdown",
   "metadata": {},
   "source": [
    "#### Now to test our model with the test data"
   ]
  },
  {
   "cell_type": "code",
   "execution_count": 21,
   "metadata": {},
   "outputs": [],
   "source": [
    "data_dir = 'test'\n",
    "test_datasets = datasets.ImageFolder(data_dir, transform = data_transforms)\n",
    "test_loader = torch.utils.data.DataLoader(dataset = test_datasets,\n",
    "                                          batch_size = 1,\n",
    "                                          shuffle = True)"
   ]
  },
  {
   "cell_type": "code",
   "execution_count": 22,
   "metadata": {},
   "outputs": [
    {
     "data": {
      "text/plain": [
       "CNNModel(\n",
       "  (cnn1): Conv2d(3, 16, kernel_size=(5, 5), stride=(1, 1), padding=(2, 2))\n",
       "  (relu1): ReLU()\n",
       "  (maxpool1): MaxPool2d(kernel_size=2, stride=2, padding=0, dilation=1, ceil_mode=False)\n",
       "  (cnn2): Conv2d(16, 32, kernel_size=(5, 5), stride=(1, 1), padding=(2, 2))\n",
       "  (relu2): ReLU()\n",
       "  (maxpool2): MaxPool2d(kernel_size=2, stride=2, padding=0, dilation=1, ceil_mode=False)\n",
       "  (linear): Linear(in_features=524288, out_features=7, bias=True)\n",
       ")"
      ]
     },
     "execution_count": 22,
     "metadata": {},
     "output_type": "execute_result"
    }
   ],
   "source": [
    "model.eval()"
   ]
  },
  {
   "cell_type": "code",
   "execution_count": 23,
   "metadata": {},
   "outputs": [
    {
     "data": {
      "image/png": "[encoded data removed]",
      "text/plain": [
       "<Figure size 432x288 with 1 Axes>"
      ]
     },
     "metadata": {
      "needs_background": "light"
     },
     "output_type": "display_data"
    },
    {
     "name": "stdout",
     "output_type": "stream",
     "text": [
      "prediction -> Rectangle\n"
     ]
    },
    {
     "data": {
      "image/png": "[encoded data removed]",
      "text/plain": [
       "<Figure size 432x288 with 1 Axes>"
      ]
     },
     "metadata": {
      "needs_background": "light"
     },
     "output_type": "display_data"
    },
    {
     "name": "stdout",
     "output_type": "stream",
     "text": [
      "prediction -> Rectangle\n"
     ]
    },
    {
     "data": {
      "image/png": "[encoded data removed]",
      "text/plain": [
       "<Figure size 432x288 with 1 Axes>"
      ]
     },
     "metadata": {
      "needs_background": "light"
     },
     "output_type": "display_data"
    },
    {
     "name": "stdout",
     "output_type": "stream",
     "text": [
      "prediction -> Triangle\n"
     ]
    },
    {
     "data": {
      "image/png": "[encoded data removed]",
      "text/plain": [
       "<Figure size 432x288 with 1 Axes>"
      ]
     },
     "metadata": {
      "needs_background": "light"
     },
     "output_type": "display_data"
    },
    {
     "name": "stdout",
     "output_type": "stream",
     "text": [
      "prediction -> Rectangle\n"
     ]
    },
    {
     "data": {
      "image/png": "[encoded data removed]",
      "text/plain": [
       "<Figure size 432x288 with 1 Axes>"
      ]
     },
     "metadata": {
      "needs_background": "light"
     },
     "output_type": "display_data"
    },
    {
     "name": "stdout",
     "output_type": "stream",
     "text": [
      "prediction -> Circle\n"
     ]
    },
    {
     "data": {
      "image/png": "[encoded data removed]",
      "text/plain": [
       "<Figure size 432x288 with 1 Axes>"
      ]
     },
     "metadata": {
      "needs_background": "light"
     },
     "output_type": "display_data"
    },
    {
     "name": "stdout",
     "output_type": "stream",
     "text": [
      "prediction -> Rectangle\n"
     ]
    }
   ],
   "source": [
    "for i, (images,labels) in enumerate(test_loader):\n",
    "    imshow(torchvision.utils.make_grid(images))\n",
    "    images=Variable(images.cuda())\n",
    "    labels = Variable(labels.cuda())\n",
    "    outputs = model(images)\n",
    "    p,predicted = torch.max(outputs.data, 1)\n",
    "    print('prediction -> {}'.format(labels_h[predicted[0]]))"
   ]
  },
  {
   "cell_type": "code",
   "execution_count": null,
   "metadata": {},
   "outputs": [],
   "source": []
  }
 ],
 "metadata": {
  "kernelspec": {
   "display_name": "Python 3",
   "language": "python",
   "name": "python3"
  },
  "language_info": {
   "codemirror_mode": {
    "name": "ipython",
    "version": 3
   },
   "file_extension": ".py",
   "mimetype": "text/x-python",
   "name": "python",
   "nbconvert_exporter": "python",
   "pygments_lexer": "ipython3",
   "version": "3.7.0"
  }
 },
 "nbformat": 4,
 "nbformat_minor": 2
}
