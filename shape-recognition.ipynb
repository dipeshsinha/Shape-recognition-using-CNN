{
 "cells": [
  {
   "cell_type": "markdown",
   "metadata": {},
   "source": [
    "#### Import torch"
   ]
  },
  {
   "cell_type": "code",
   "execution_count": 11,
   "metadata": {},
   "outputs": [],
   "source": [
    "import torch\n",
    "import torch.nn as nn\n",
    "import torch.optim as optim\n",
    "from torch.autograd import Variable\n",
    "import numpy as np\n",
    "import pandas as pd\n",
    "import matplotlib.pyplot as plt\n",
    "import torchvision\n",
    "from torchvision import datasets, models, transforms"
   ]
  },
  {
   "cell_type": "markdown",
   "metadata": {},
   "source": [
    "#### Create a torch.nn module for CNN network"
   ]
  },
  {
   "cell_type": "code",
   "execution_count": 23,
   "metadata": {},
   "outputs": [],
   "source": [
    "class CNNModel(nn.Module):\n",
    "    def __init__(self):\n",
    "        super(CNNModel, self).__init__()\n",
    "        self.cnn1 = nn.Conv2d(in_channels = 3,\n",
    "                             out_channels = 16,\n",
    "                             kernel_size = 5,\n",
    "                             stride = 1,\n",
    "                             padding = 2)\n",
    "        self.relu1 = nn.ReLU()\n",
    "        self.maxpool1 = nn.MaxPool2d(kernel_size = 2)\n",
    "        self.cnn3 = nn.Conv2d(in_channels = 16,\n",
    "                             out_channels = 32,\n",
    "                             kernel_size = 5,\n",
    "                             stride = 1,\n",
    "                             padding = 2)\n",
    "        self.relu3 = nn.ReLU()\n",
    "        self.maxpool3 = nn.MaxPool2d(kernel_size = 2)\n",
    "        self.linear = nn.Linear(32*128*128, 32)\n",
    "        self.linear2 = nn.Linear(32, 7)\n",
    "    def forward(self, x):\n",
    "        out = self.cnn1(x)\n",
    "        out = self.relu1(out)\n",
    "        out = self.maxpool1(out)\n",
    "        out = self.cnn3(out)\n",
    "        out = self.relu3(out)\n",
    "        out = self.maxpool3(out)\n",
    "        out = out.view(out.size(0), -1)\n",
    "        out = self.linear(out)\n",
    "        out = self.linear2(out)\n",
    "        return out"
   ]
  },
  {
   "cell_type": "markdown",
   "metadata": {},
   "source": [
    "#### transform our images and normalise it for better model training"
   ]
  },
  {
   "cell_type": "code",
   "execution_count": 24,
   "metadata": {},
   "outputs": [],
   "source": [
    "data_transforms = transforms.Compose([\n",
    "    transforms.Resize([512,512]),\n",
    "    transforms.ToTensor(),\n",
    "    transforms.Normalize([0.485,0.456,0.406],[0.229,0.224,0.225])\n",
    "])\n",
    "data_dir = 'train'\n",
    "image_datasets = datasets.ImageFolder(data_dir, transform = data_transforms)\n",
    "train_loader = torch.utils.data.DataLoader(dataset = image_datasets,\n",
    "                                          batch_size = 2,\n",
    "                                          shuffle = True)\n",
    "image_datasets.classes\n",
    "labels_h = ('Circle', 'Rectangle', 'Triangle')\n",
    "dataset_size = len(image_datasets)"
   ]
  },
  {
   "cell_type": "markdown",
   "metadata": {},
   "source": [
    "#### Function to display image"
   ]
  },
  {
   "cell_type": "code",
   "execution_count": 25,
   "metadata": {},
   "outputs": [],
   "source": [
    "def imshow(inp, title=None):\n",
    "    inp = inp.numpy().transpose((1, 2, 0))\n",
    "    mean = np.array([0.485, 0.456, 0.406])\n",
    "    std = np.array([0.229, 0.224, 0.225])\n",
    "    inp = std * inp + mean\n",
    "    inp = np.clip(inp, 0, 1)\n",
    "    plt.imshow(inp)\n",
    "    if title is not None:\n",
    "        plt.title(title)\n",
    "    plt.pause(0.001)  # pause a bit so that plots are updated"
   ]
  },
  {
   "cell_type": "code",
   "execution_count": 26,
   "metadata": {},
   "outputs": [],
   "source": [
    "model = CNNModel()\n",
    "criterion = nn.CrossEntropyLoss()\n",
    "optimizer = optim.SGD(model.parameters(), lr = 0.001)\n",
    "model = model.cuda()   #transfer model to GPU"
   ]
  },
  {
   "cell_type": "code",
   "execution_count": 27,
   "metadata": {},
   "outputs": [
    {
     "name": "stderr",
     "output_type": "stream",
     "text": [
      "C:\\Users\\nEW u\\Anaconda3\\lib\\site-packages\\ipykernel_launcher.py:13: UserWarning: invalid index of a 0-dim tensor. This will be an error in PyTorch 0.5. Use tensor.item() to convert a 0-dim tensor to a Python number\n",
      "  del sys.path[0]\n"
     ]
    },
    {
     "name": "stdout",
     "output_type": "stream",
     "text": [
      "epoch : 0, iter : 0, loss : 2.0768308639526367\n",
      "epoch : 0, iter : 1, loss : 28.116153717041016\n",
      "epoch : 0, iter : 2, loss : 2.3637895584106445\n",
      "epoch : 0, iter : 3, loss : 0.6925492286682129\n",
      "epoch : 0, iter : 4, loss : 2.7928709983825684\n",
      "epoch : 0, iter : 5, loss : 1.2016507387161255\n",
      "epoch : 0, iter : 6, loss : 1.3129397630691528\n",
      "epoch : 0, iter : 7, loss : 4.946051597595215\n",
      "epoch : 0, iter : 8, loss : 1.3630969524383545\n",
      "epoch : 0, iter : 9, loss : 1.168401837348938\n",
      "epoch : 0, iter : 10, loss : 1.0427167415618896\n",
      "epoch : 0, iter : 11, loss : 2.4840903282165527\n",
      "epoch : 0, iter : 12, loss : 0.7311149835586548\n",
      "epoch : 0, iter : 13, loss : 1.0630781650543213\n",
      "epoch : 0, iter : 14, loss : 1.1653752326965332\n",
      "epoch : 0, iter : 15, loss : 3.0243709087371826\n",
      "epoch : 0, iter : 16, loss : 1.9904048442840576\n",
      "epoch : 0, iter : 17, loss : 0.41591203212738037\n",
      "epoch : 0, iter : 18, loss : 0.8097269535064697\n",
      "epoch : 0, iter : 19, loss : 1.682956576347351\n",
      "epoch : 1, iter : 0, loss : 0.731425404548645\n",
      "epoch : 1, iter : 1, loss : 1.1737666130065918\n",
      "epoch : 1, iter : 2, loss : 1.2096073627471924\n",
      "epoch : 1, iter : 3, loss : 1.0621023178100586\n",
      "epoch : 1, iter : 4, loss : 0.9704402089118958\n",
      "epoch : 1, iter : 5, loss : 0.5966424942016602\n",
      "epoch : 1, iter : 6, loss : 0.7548326849937439\n",
      "epoch : 1, iter : 7, loss : 1.420932650566101\n",
      "epoch : 1, iter : 8, loss : 2.20517635345459\n",
      "epoch : 1, iter : 9, loss : 0.5156638622283936\n",
      "epoch : 1, iter : 10, loss : 0.7184661626815796\n",
      "epoch : 1, iter : 11, loss : 1.4338704347610474\n",
      "epoch : 1, iter : 12, loss : 1.4654955863952637\n",
      "epoch : 1, iter : 13, loss : 1.314304232597351\n",
      "epoch : 1, iter : 14, loss : 2.4431798458099365\n",
      "epoch : 1, iter : 15, loss : 0.8015463352203369\n",
      "epoch : 1, iter : 16, loss : 0.25587594509124756\n",
      "epoch : 1, iter : 17, loss : 0.6651636362075806\n",
      "epoch : 1, iter : 18, loss : 2.5310685634613037\n",
      "epoch : 1, iter : 19, loss : 0.8507686853408813\n",
      "epoch : 2, iter : 0, loss : 0.4459143877029419\n",
      "epoch : 2, iter : 1, loss : 0.89718097448349\n",
      "epoch : 2, iter : 2, loss : 1.273730993270874\n",
      "epoch : 2, iter : 3, loss : 0.3305630683898926\n",
      "epoch : 2, iter : 4, loss : 0.31957292556762695\n",
      "epoch : 2, iter : 5, loss : 1.422196865081787\n",
      "epoch : 2, iter : 6, loss : 0.2371656894683838\n",
      "epoch : 2, iter : 7, loss : 2.003542900085449\n",
      "epoch : 2, iter : 8, loss : 0.6552672982215881\n",
      "epoch : 2, iter : 9, loss : 0.4683661460876465\n",
      "epoch : 2, iter : 10, loss : 0.49901771545410156\n",
      "epoch : 2, iter : 11, loss : 0.3497929573059082\n",
      "epoch : 2, iter : 12, loss : 0.7761722803115845\n",
      "epoch : 2, iter : 13, loss : 0.6765638589859009\n",
      "epoch : 2, iter : 14, loss : 1.2779765129089355\n",
      "epoch : 2, iter : 15, loss : 0.9388153553009033\n",
      "epoch : 2, iter : 16, loss : 0.5980435609817505\n",
      "epoch : 2, iter : 17, loss : 1.406540036201477\n",
      "epoch : 2, iter : 18, loss : 0.39244234561920166\n",
      "epoch : 2, iter : 19, loss : 0.5084531307220459\n",
      "epoch : 3, iter : 0, loss : 0.29151105880737305\n",
      "epoch : 3, iter : 1, loss : 0.4861518144607544\n",
      "epoch : 3, iter : 2, loss : 0.5326067209243774\n",
      "epoch : 3, iter : 3, loss : 0.19286561012268066\n",
      "epoch : 3, iter : 4, loss : 0.7279454469680786\n",
      "epoch : 3, iter : 5, loss : 0.9506362676620483\n",
      "epoch : 3, iter : 6, loss : 0.8170033693313599\n",
      "epoch : 3, iter : 7, loss : 0.5797494649887085\n",
      "epoch : 3, iter : 8, loss : 0.6906709671020508\n",
      "epoch : 3, iter : 9, loss : 1.7096531391143799\n",
      "epoch : 3, iter : 10, loss : 0.2496122121810913\n",
      "epoch : 3, iter : 11, loss : 0.15508592128753662\n",
      "epoch : 3, iter : 12, loss : 0.27438628673553467\n",
      "epoch : 3, iter : 13, loss : 0.809040367603302\n",
      "epoch : 3, iter : 14, loss : 0.31594598293304443\n",
      "epoch : 3, iter : 15, loss : 0.697998046875\n",
      "epoch : 3, iter : 16, loss : 0.15673112869262695\n",
      "epoch : 3, iter : 17, loss : 0.15162920951843262\n",
      "epoch : 3, iter : 18, loss : 0.3653280735015869\n",
      "epoch : 3, iter : 19, loss : 1.4347124099731445\n",
      "epoch : 4, iter : 0, loss : 0.4402226209640503\n",
      "epoch : 4, iter : 1, loss : 0.05510067939758301\n",
      "epoch : 4, iter : 2, loss : 0.8366149663925171\n",
      "epoch : 4, iter : 3, loss : 0.07764339447021484\n",
      "epoch : 4, iter : 4, loss : 0.33530116081237793\n",
      "epoch : 4, iter : 5, loss : 0.10631585121154785\n",
      "epoch : 4, iter : 6, loss : 0.2210378646850586\n",
      "epoch : 4, iter : 7, loss : 0.28490889072418213\n",
      "epoch : 4, iter : 8, loss : 0.9938606023788452\n",
      "epoch : 4, iter : 9, loss : 0.2003955841064453\n",
      "epoch : 4, iter : 10, loss : 0.9767658710479736\n",
      "epoch : 4, iter : 11, loss : 0.6810195446014404\n",
      "epoch : 4, iter : 12, loss : 0.2115466594696045\n",
      "epoch : 4, iter : 13, loss : 0.2626955509185791\n",
      "epoch : 4, iter : 14, loss : 0.9786311984062195\n",
      "epoch : 4, iter : 15, loss : 0.2338923215866089\n",
      "epoch : 4, iter : 16, loss : 0.7675249576568604\n",
      "epoch : 4, iter : 17, loss : 1.3207474946975708\n",
      "epoch : 4, iter : 18, loss : 0.35101842880249023\n",
      "epoch : 4, iter : 19, loss : 0.018985748291015625\n",
      "epoch : 5, iter : 0, loss : 0.14006924629211426\n",
      "epoch : 5, iter : 1, loss : 0.2654150724411011\n",
      "epoch : 5, iter : 2, loss : 0.020893096923828125\n",
      "epoch : 5, iter : 3, loss : 0.22437620162963867\n",
      "epoch : 5, iter : 4, loss : 0.308521032333374\n",
      "epoch : 5, iter : 5, loss : 0.2500174045562744\n",
      "epoch : 5, iter : 6, loss : 0.2481023073196411\n",
      "epoch : 5, iter : 7, loss : 0.4392085075378418\n",
      "epoch : 5, iter : 8, loss : 0.09215521812438965\n",
      "epoch : 5, iter : 9, loss : 0.11879491806030273\n",
      "epoch : 5, iter : 10, loss : 0.22402119636535645\n",
      "epoch : 5, iter : 11, loss : 0.10221576690673828\n",
      "epoch : 5, iter : 12, loss : 0.13418078422546387\n",
      "epoch : 5, iter : 13, loss : 0.09458518028259277\n",
      "epoch : 5, iter : 14, loss : 0.0231015682220459\n",
      "epoch : 5, iter : 15, loss : 0.14502286911010742\n",
      "epoch : 5, iter : 16, loss : 0.33471083641052246\n",
      "epoch : 5, iter : 17, loss : 0.2687506675720215\n",
      "epoch : 5, iter : 18, loss : 0.12065935134887695\n",
      "epoch : 5, iter : 19, loss : 0.26111865043640137\n",
      "epoch : 6, iter : 0, loss : 0.3101487159729004\n",
      "epoch : 6, iter : 1, loss : 0.007093667984008789\n",
      "epoch : 6, iter : 2, loss : 0.06214165687561035\n",
      "epoch : 6, iter : 3, loss : 0.16455864906311035\n",
      "epoch : 6, iter : 4, loss : 0.03562641143798828\n",
      "epoch : 6, iter : 5, loss : 0.176316499710083\n",
      "epoch : 6, iter : 6, loss : 0.10649466514587402\n",
      "epoch : 6, iter : 7, loss : 0.07282638549804688\n",
      "epoch : 6, iter : 8, loss : 0.057267189025878906\n",
      "epoch : 6, iter : 9, loss : 0.01134800910949707\n",
      "epoch : 6, iter : 10, loss : 0.15861105918884277\n",
      "epoch : 6, iter : 11, loss : 0.1876678466796875\n",
      "epoch : 6, iter : 12, loss : 0.08380293846130371\n",
      "epoch : 6, iter : 13, loss : 0.03745555877685547\n",
      "epoch : 6, iter : 14, loss : 0.12769365310668945\n",
      "epoch : 6, iter : 15, loss : 0.011104583740234375\n",
      "epoch : 6, iter : 16, loss : 0.17792749404907227\n",
      "epoch : 6, iter : 17, loss : 0.09878778457641602\n",
      "epoch : 6, iter : 18, loss : 0.04893326759338379\n",
      "epoch : 6, iter : 19, loss : 0.013776302337646484\n",
      "epoch : 7, iter : 0, loss : 0.20921456813812256\n",
      "epoch : 7, iter : 1, loss : 0.04769635200500488\n",
      "epoch : 7, iter : 2, loss : 0.04960060119628906\n",
      "epoch : 7, iter : 3, loss : 0.07331395149230957\n",
      "epoch : 7, iter : 4, loss : 0.023793697357177734\n",
      "epoch : 7, iter : 5, loss : 0.04957842826843262\n",
      "epoch : 7, iter : 6, loss : 0.029854297637939453\n",
      "epoch : 7, iter : 7, loss : 0.04179739952087402\n",
      "epoch : 7, iter : 8, loss : 0.01815009117126465\n",
      "epoch : 7, iter : 9, loss : 0.01705789566040039\n",
      "epoch : 7, iter : 10, loss : 0.06015968322753906\n",
      "epoch : 7, iter : 11, loss : 0.025975704193115234\n",
      "epoch : 7, iter : 12, loss : 0.06276965141296387\n",
      "epoch : 7, iter : 13, loss : 0.11375212669372559\n",
      "epoch : 7, iter : 14, loss : 0.0027756690979003906\n",
      "epoch : 7, iter : 15, loss : 0.035254716873168945\n",
      "epoch : 7, iter : 16, loss : 0.03548765182495117\n",
      "epoch : 7, iter : 17, loss : 0.16402459144592285\n",
      "epoch : 7, iter : 18, loss : 0.17322039604187012\n",
      "epoch : 7, iter : 19, loss : 0.07675933837890625\n",
      "epoch : 8, iter : 0, loss : 0.01736307144165039\n",
      "epoch : 8, iter : 1, loss : 0.008915424346923828\n",
      "epoch : 8, iter : 2, loss : 0.0801076889038086\n",
      "epoch : 8, iter : 3, loss : 0.1718893051147461\n",
      "epoch : 8, iter : 4, loss : 0.0034360885620117188\n",
      "epoch : 8, iter : 5, loss : 0.020872831344604492\n",
      "epoch : 8, iter : 6, loss : 0.011026382446289062\n",
      "epoch : 8, iter : 7, loss : 0.03636574745178223\n",
      "epoch : 8, iter : 8, loss : 0.052739620208740234\n",
      "epoch : 8, iter : 9, loss : 0.03611588478088379\n"
     ]
    },
    {
     "name": "stdout",
     "output_type": "stream",
     "text": [
      "epoch : 8, iter : 10, loss : 0.031519412994384766\n",
      "epoch : 8, iter : 11, loss : 0.04977607727050781\n",
      "epoch : 8, iter : 12, loss : 0.03568840026855469\n",
      "epoch : 8, iter : 13, loss : 0.032263755798339844\n",
      "epoch : 8, iter : 14, loss : 0.0010137557983398438\n",
      "epoch : 8, iter : 15, loss : 0.051412105560302734\n",
      "epoch : 8, iter : 16, loss : 0.026374340057373047\n",
      "epoch : 8, iter : 17, loss : 0.04549121856689453\n",
      "epoch : 8, iter : 18, loss : 0.019968509674072266\n",
      "epoch : 8, iter : 19, loss : 0.012178421020507812\n",
      "epoch : 9, iter : 0, loss : 0.022535085678100586\n",
      "epoch : 9, iter : 1, loss : 0.011606216430664062\n",
      "epoch : 9, iter : 2, loss : 0.002483367919921875\n",
      "epoch : 9, iter : 3, loss : 0.026144742965698242\n",
      "epoch : 9, iter : 4, loss : 0.06059598922729492\n",
      "epoch : 9, iter : 5, loss : 0.04082131385803223\n",
      "epoch : 9, iter : 6, loss : 0.025952577590942383\n",
      "epoch : 9, iter : 7, loss : 0.01294565200805664\n",
      "epoch : 9, iter : 8, loss : 0.02979278564453125\n",
      "epoch : 9, iter : 9, loss : 0.014676332473754883\n",
      "epoch : 9, iter : 10, loss : 0.009079456329345703\n",
      "epoch : 9, iter : 11, loss : 0.011241436004638672\n",
      "epoch : 9, iter : 12, loss : 0.03372478485107422\n",
      "epoch : 9, iter : 13, loss : 0.02852606773376465\n",
      "epoch : 9, iter : 14, loss : 0.03899192810058594\n",
      "epoch : 9, iter : 15, loss : 0.032158851623535156\n",
      "epoch : 9, iter : 16, loss : 0.013007402420043945\n",
      "epoch : 9, iter : 17, loss : 0.03445720672607422\n",
      "epoch : 9, iter : 18, loss : 0.008730888366699219\n",
      "epoch : 9, iter : 19, loss : 7.2479248046875e-05\n",
      "epoch : 10, iter : 0, loss : 0.020323991775512695\n",
      "epoch : 10, iter : 1, loss : 0.019814014434814453\n",
      "epoch : 10, iter : 2, loss : 0.015390872955322266\n",
      "epoch : 10, iter : 3, loss : 0.016187667846679688\n",
      "epoch : 10, iter : 4, loss : 0.017226219177246094\n",
      "epoch : 10, iter : 5, loss : 0.014421463012695312\n",
      "epoch : 10, iter : 6, loss : 0.020138263702392578\n",
      "epoch : 10, iter : 7, loss : 0.014679193496704102\n",
      "epoch : 10, iter : 8, loss : 0.013274669647216797\n",
      "epoch : 10, iter : 9, loss : 0.01877903938293457\n",
      "epoch : 10, iter : 10, loss : 0.015376567840576172\n",
      "epoch : 10, iter : 11, loss : 0.017537355422973633\n",
      "epoch : 10, iter : 12, loss : 0.02489161491394043\n",
      "epoch : 10, iter : 13, loss : 0.015200614929199219\n",
      "epoch : 10, iter : 14, loss : 0.002899169921875\n",
      "epoch : 10, iter : 15, loss : 0.008203744888305664\n",
      "epoch : 10, iter : 16, loss : 0.053365468978881836\n",
      "epoch : 10, iter : 17, loss : 0.007925033569335938\n",
      "epoch : 10, iter : 18, loss : 0.009569644927978516\n",
      "epoch : 10, iter : 19, loss : 0.029558181762695312\n",
      "epoch : 11, iter : 0, loss : 0.04133796691894531\n",
      "epoch : 11, iter : 1, loss : 0.009428262710571289\n",
      "epoch : 11, iter : 2, loss : 0.01069331169128418\n",
      "epoch : 11, iter : 3, loss : 0.010911941528320312\n",
      "epoch : 11, iter : 4, loss : 0.005682468414306641\n",
      "epoch : 11, iter : 5, loss : 0.012593984603881836\n",
      "epoch : 11, iter : 6, loss : 0.019477128982543945\n",
      "epoch : 11, iter : 7, loss : 0.0039272308349609375\n",
      "epoch : 11, iter : 8, loss : 0.010772705078125\n",
      "epoch : 11, iter : 9, loss : 0.026259899139404297\n",
      "epoch : 11, iter : 10, loss : 0.010351181030273438\n",
      "epoch : 11, iter : 11, loss : 0.01381540298461914\n",
      "epoch : 11, iter : 12, loss : 0.005692958831787109\n",
      "epoch : 11, iter : 13, loss : 0.016958951950073242\n",
      "epoch : 11, iter : 14, loss : 0.012184381484985352\n",
      "epoch : 11, iter : 15, loss : 0.011589527130126953\n",
      "epoch : 11, iter : 16, loss : 0.011615514755249023\n",
      "epoch : 11, iter : 17, loss : 0.019620895385742188\n",
      "epoch : 11, iter : 18, loss : 0.009850025177001953\n",
      "epoch : 11, iter : 19, loss : 0.037566184997558594\n",
      "epoch : 12, iter : 0, loss : 0.0025038719177246094\n",
      "epoch : 12, iter : 1, loss : 0.007821083068847656\n",
      "epoch : 12, iter : 2, loss : 0.01255655288696289\n",
      "epoch : 12, iter : 3, loss : 0.002044200897216797\n",
      "epoch : 12, iter : 4, loss : 0.00906682014465332\n",
      "epoch : 12, iter : 5, loss : 0.006772518157958984\n",
      "epoch : 12, iter : 6, loss : 0.011862754821777344\n",
      "epoch : 12, iter : 7, loss : 0.03770256042480469\n",
      "epoch : 12, iter : 8, loss : 0.014247655868530273\n",
      "epoch : 12, iter : 9, loss : 0.0066950321197509766\n",
      "epoch : 12, iter : 10, loss : 0.015330314636230469\n",
      "epoch : 12, iter : 11, loss : 0.00907135009765625\n",
      "epoch : 12, iter : 12, loss : 0.015338420867919922\n",
      "epoch : 12, iter : 13, loss : 0.011464118957519531\n",
      "epoch : 12, iter : 14, loss : 0.005175590515136719\n",
      "epoch : 12, iter : 15, loss : 0.00046253204345703125\n",
      "epoch : 12, iter : 16, loss : 0.029621362686157227\n",
      "epoch : 12, iter : 17, loss : 0.008297443389892578\n",
      "epoch : 12, iter : 18, loss : 0.016553640365600586\n",
      "epoch : 12, iter : 19, loss : 0.023501873016357422\n",
      "epoch : 13, iter : 0, loss : 0.011153221130371094\n",
      "epoch : 13, iter : 1, loss : 0.0068323612213134766\n",
      "epoch : 13, iter : 2, loss : 0.004230976104736328\n",
      "epoch : 13, iter : 3, loss : 0.006770610809326172\n",
      "epoch : 13, iter : 4, loss : 0.016231536865234375\n",
      "epoch : 13, iter : 5, loss : 0.006620883941650391\n",
      "epoch : 13, iter : 6, loss : 0.02932596206665039\n",
      "epoch : 13, iter : 7, loss : 0.006142616271972656\n",
      "epoch : 13, iter : 8, loss : 0.0017905235290527344\n",
      "epoch : 13, iter : 9, loss : 0.012441396713256836\n",
      "epoch : 13, iter : 10, loss : 0.007061958312988281\n",
      "epoch : 13, iter : 11, loss : 0.017122983932495117\n",
      "epoch : 13, iter : 12, loss : 0.006892681121826172\n",
      "epoch : 13, iter : 13, loss : 0.009887218475341797\n",
      "epoch : 13, iter : 14, loss : 0.010109424591064453\n",
      "epoch : 13, iter : 15, loss : 0.010338783264160156\n",
      "epoch : 13, iter : 16, loss : 0.011963129043579102\n",
      "epoch : 13, iter : 17, loss : 0.009064912796020508\n",
      "epoch : 13, iter : 18, loss : 0.008437156677246094\n",
      "epoch : 13, iter : 19, loss : 1.52587890625e-05\n",
      "epoch : 14, iter : 0, loss : 0.00770878791809082\n",
      "epoch : 14, iter : 1, loss : 0.007416725158691406\n",
      "epoch : 14, iter : 2, loss : 0.005525112152099609\n",
      "epoch : 14, iter : 3, loss : 0.009311199188232422\n",
      "epoch : 14, iter : 4, loss : 0.009289741516113281\n",
      "epoch : 14, iter : 5, loss : 0.0019683837890625\n",
      "epoch : 14, iter : 6, loss : 0.0034952163696289062\n",
      "epoch : 14, iter : 7, loss : 0.0019078254699707031\n",
      "epoch : 14, iter : 8, loss : 0.012274026870727539\n",
      "epoch : 14, iter : 9, loss : 0.008134841918945312\n",
      "epoch : 14, iter : 10, loss : 0.008319377899169922\n",
      "epoch : 14, iter : 11, loss : 0.007690906524658203\n",
      "epoch : 14, iter : 12, loss : 0.02442002296447754\n",
      "epoch : 14, iter : 13, loss : 0.011965513229370117\n",
      "epoch : 14, iter : 14, loss : 0.010137081146240234\n",
      "epoch : 14, iter : 15, loss : 0.0008783340454101562\n",
      "epoch : 14, iter : 16, loss : 0.013271570205688477\n",
      "epoch : 14, iter : 17, loss : 0.00330352783203125\n",
      "epoch : 14, iter : 18, loss : 0.01719951629638672\n",
      "epoch : 14, iter : 19, loss : 1.1444091796875e-05\n"
     ]
    }
   ],
   "source": [
    "num_epochs = 15\n",
    "iter = 0\n",
    "for epoch in range(num_epochs):\n",
    "    for i, (images, labels) in enumerate(train_loader):\n",
    "        images = Variable(images.cuda())\n",
    "        labels = Variable(labels.cuda())\n",
    "        optimizer.zero_grad()\n",
    "        output = model(images)\n",
    "        loss = criterion(output, labels)\n",
    "        loss.backward()\n",
    "        optimizer.step()\n",
    "        iter += 1\n",
    "        print('epoch : {}, iter : {}, loss : {}'.format(epoch,i,loss.data[0]))"
   ]
  },
  {
   "cell_type": "markdown",
   "metadata": {},
   "source": [
    "#### Now to test our model with the test data"
   ]
  },
  {
   "cell_type": "code",
   "execution_count": 28,
   "metadata": {},
   "outputs": [],
   "source": [
    "data_dir = 'test'\n",
    "test_datasets = datasets.ImageFolder(data_dir, transform = data_transforms)\n",
    "test_loader = torch.utils.data.DataLoader(dataset = test_datasets,\n",
    "                                          batch_size = 1,\n",
    "                                          shuffle = True)"
   ]
  },
  {
   "cell_type": "code",
   "execution_count": 29,
   "metadata": {},
   "outputs": [
    {
     "data": {
      "text/plain": [
       "CNNModel(\n",
       "  (cnn1): Conv2d(3, 16, kernel_size=(5, 5), stride=(1, 1), padding=(2, 2))\n",
       "  (relu1): ReLU()\n",
       "  (maxpool1): MaxPool2d(kernel_size=2, stride=2, padding=0, dilation=1, ceil_mode=False)\n",
       "  (cnn3): Conv2d(16, 32, kernel_size=(5, 5), stride=(1, 1), padding=(2, 2))\n",
       "  (relu3): ReLU()\n",
       "  (maxpool3): MaxPool2d(kernel_size=2, stride=2, padding=0, dilation=1, ceil_mode=False)\n",
       "  (linear): Linear(in_features=524288, out_features=32, bias=True)\n",
       "  (linear2): Linear(in_features=32, out_features=7, bias=True)\n",
       ")"
      ]
     },
     "execution_count": 29,
     "metadata": {},
     "output_type": "execute_result"
    }
   ],
   "source": [
    "model.eval()"
   ]
  },
  {
   "cell_type": "code",
   "execution_count": 30,
   "metadata": {},
   "outputs": [
    {
     "data": {
      "image/png": "[encoded data removed]",
      "text/plain": [
       "<Figure size 432x288 with 1 Axes>"
      ]
     },
     "metadata": {
      "needs_background": "light"
     },
     "output_type": "display_data"
    },
    {
     "name": "stdout",
     "output_type": "stream",
     "text": [
      "prediction -> Rectangle\n"
     ]
    },
    {
     "data": {
      "image/png": "[encoded data removed]",
      "text/plain": [
       "<Figure size 432x288 with 1 Axes>"
      ]
     },
     "metadata": {
      "needs_background": "light"
     },
     "output_type": "display_data"
    },
    {
     "name": "stdout",
     "output_type": "stream",
     "text": [
      "prediction -> Rectangle\n"
     ]
    },
    {
     "data": {
      "image/png": "[encoded data removed]",
      "text/plain": [
       "<Figure size 432x288 with 1 Axes>"
      ]
     },
     "metadata": {
      "needs_background": "light"
     },
     "output_type": "display_data"
    },
    {
     "name": "stdout",
     "output_type": "stream",
     "text": [
      "prediction -> Circle\n"
     ]
    },
    {
     "data": {
      "image/png": "[encoded data removed]",
      "text/plain": [
       "<Figure size 432x288 with 1 Axes>"
      ]
     },
     "metadata": {
      "needs_background": "light"
     },
     "output_type": "display_data"
    },
    {
     "name": "stdout",
     "output_type": "stream",
     "text": [
      "prediction -> Rectangle\n"
     ]
    },
    {
     "data": {
      "image/png": "[encoded data removed]",
      "text/plain": [
       "<Figure size 432x288 with 1 Axes>"
      ]
     },
     "metadata": {
      "needs_background": "light"
     },
     "output_type": "display_data"
    },
    {
     "name": "stdout",
     "output_type": "stream",
     "text": [
      "prediction -> Triangle\n"
     ]
    },
    {
     "data": {
      "image/png": "[encoded data removed]",
      "text/plain": [
       "<Figure size 432x288 with 1 Axes>"
      ]
     },
     "metadata": {
      "needs_background": "light"
     },
     "output_type": "display_data"
    },
    {
     "name": "stdout",
     "output_type": "stream",
     "text": [
      "prediction -> Rectangle\n"
     ]
    }
   ],
   "source": [
    "for i, (images,labels) in enumerate(test_loader):\n",
    "    imshow(torchvision.utils.make_grid(images))\n",
    "    images=Variable(images.cuda())\n",
    "    labels = Variable(labels.cuda())\n",
    "    outputs = model(images)\n",
    "    p,predicted = torch.max(outputs.data, 1)\n",
    "    print('prediction -> {}'.format(labels_h[predicted[0]]))"
   ]
  },
  {
   "cell_type": "code",
   "execution_count": null,
   "metadata": {},
   "outputs": [],
   "source": []
  }
 ],
 "metadata": {
  "kernelspec": {
   "display_name": "Python 3",
   "language": "python",
   "name": "python3"
  },
  "language_info": {
   "codemirror_mode": {
    "name": "ipython",
    "version": 3
   },
   "file_extension": ".py",
   "mimetype": "text/x-python",
   "name": "python",
   "nbconvert_exporter": "python",
   "pygments_lexer": "ipython3",
   "version": "3.7.0"
  }
 },
 "nbformat": 4,
 "nbformat_minor": 2
}
